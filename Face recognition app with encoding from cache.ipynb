{
 "cells": [
  {
   "cell_type": "markdown",
   "id": "162f6a1a",
   "metadata": {},
   "source": [
    "# Installation des librairies python"
   ]
  },
  {
   "cell_type": "code",
   "execution_count": 1,
   "id": "7ea090d5",
   "metadata": {},
   "outputs": [
    {
     "name": "stdout",
     "output_type": "stream",
     "text": [
      "Note: you may need to restart the kernel to use updated packages.\n"
     ]
    },
    {
     "name": "stderr",
     "output_type": "stream",
     "text": [
      "ERROR: Could not open requirements file: [Errno 2] No such file or directory: 'reqirements.txt'\n"
     ]
    }
   ],
   "source": [
    "pip install opencv-python\n"
   ]
  },
  {
   "cell_type": "code",
   "execution_count": 1,
   "id": "4a1f1505",
   "metadata": {},
   "outputs": [
    {
     "name": "stdout",
     "output_type": "stream",
     "text": [
      "Requirement already satisfied: cmake in c:\\users\\rjabj\\appdata\\roaming\\python\\python39\\site-packages (4.0.0)\n",
      "Note: you may need to restart the kernel to use updated packages.\n"
     ]
    }
   ],
   "source": [
    "pip install cmake\n"
   ]
  },
  {
   "cell_type": "code",
   "execution_count": 2,
   "id": "eb34990e",
   "metadata": {},
   "outputs": [
    {
     "name": "stdout",
     "output_type": "stream",
     "text": [
      "Collecting dlib\n",
      "  Using cached dlib-19.24.8.tar.gz (3.4 MB)\n",
      "  Preparing metadata (setup.py): started\n",
      "  Preparing metadata (setup.py): finished with status 'done'\n",
      "Building wheels for collected packages: dlib\n",
      "  Building wheel for dlib (setup.py): started\n",
      "  Building wheel for dlib (setup.py): finished with status 'error'\n",
      "  Running setup.py clean for dlib\n",
      "Failed to build dlib\n",
      "Installing collected packages: dlib\n",
      "  Running setup.py install for dlib: started\n",
      "  Running setup.py install for dlib: finished with status 'error'\n",
      "Note: you may need to restart the kernel to use updated packages.\n"
     ]
    },
    {
     "name": "stderr",
     "output_type": "stream",
     "text": [
      "  error: subprocess-exited-with-error\n",
      "  \n",
      "  python setup.py bdist_wheel did not run successfully.\n",
      "  exit code: 1\n",
      "  \n",
      "  [41 lines of output]\n",
      "  running bdist_wheel\n",
      "  running build\n",
      "  running build_ext\n",
      "  \n",
      "  ================================================================================\n",
      "  ================================================================================\n",
      "  ================================================================================\n",
      "  \n",
      "                     CMake is not installed on your system!\n",
      "  \n",
      "      Or it is possible some broken copy of cmake is installed on your system.\n",
      "      It is unfortunately very common for python package managers to include\n",
      "      broken copies of cmake.  So if the error above this refers to some file\n",
      "      path to a cmake file inside a python or anaconda or miniconda path then you\n",
      "      should delete that broken copy of cmake from your computer.\n",
      "  \n",
      "      Instead, please get an official copy of cmake from one of these known good\n",
      "      sources of an official cmake:\n",
      "          - cmake.org (this is how windows users should get cmake)\n",
      "          - apt install cmake (for Ubuntu or Debian based systems)\n",
      "          - yum install cmake (for Redhat or CenOS based systems)\n",
      "  \n",
      "      On a linux machine you can run `which cmake` to see what cmake you are\n",
      "      actually using.  If it tells you it's some cmake from any kind of python\n",
      "      packager delete it and install an official cmake.\n",
      "  \n",
      "      More generally, cmake is not installed if when you open a terminal window\n",
      "      and type\n",
      "         cmake --version\n",
      "      you get an error.  So you can use that as a very basic test to see if you\n",
      "      have cmake installed.  That is, if cmake --version doesn't run from the\n",
      "      same terminal window from which you are reading this error message, then\n",
      "      you have not installed cmake.  Windows users should take note that they\n",
      "      need to tell the cmake installer to add cmake to their PATH.  Since you\n",
      "      can't run commands that are not in your PATH.  This is how the PATH works\n",
      "      on Linux as well, but failing to add cmake to the PATH is a particularly\n",
      "      common problem on windows and rarely a problem on Linux.\n",
      "  \n",
      "  ================================================================================\n",
      "  ================================================================================\n",
      "  ================================================================================\n",
      "  [end of output]\n",
      "  \n",
      "  note: This error originates from a subprocess, and is likely not a problem with pip.\n",
      "  ERROR: Failed building wheel for dlib\n",
      "  error: subprocess-exited-with-error\n",
      "  \n",
      "  Running setup.py install for dlib did not run successfully.\n",
      "  exit code: 1\n",
      "  \n",
      "  [43 lines of output]\n",
      "  running install\n",
      "  C:\\Users\\rjabj\\anaconda3\\lib\\site-packages\\setuptools\\command\\install.py:34: SetuptoolsDeprecationWarning: setup.py install is deprecated. Use build and pip and other standards-based tools.\n",
      "    warnings.warn(\n",
      "  running build\n",
      "  running build_ext\n",
      "  \n",
      "  ================================================================================\n",
      "  ================================================================================\n",
      "  ================================================================================\n",
      "  \n",
      "                     CMake is not installed on your system!\n",
      "  \n",
      "      Or it is possible some broken copy of cmake is installed on your system.\n",
      "      It is unfortunately very common for python package managers to include\n",
      "      broken copies of cmake.  So if the error above this refers to some file\n",
      "      path to a cmake file inside a python or anaconda or miniconda path then you\n",
      "      should delete that broken copy of cmake from your computer.\n",
      "  \n",
      "      Instead, please get an official copy of cmake from one of these known good\n",
      "      sources of an official cmake:\n",
      "          - cmake.org (this is how windows users should get cmake)\n",
      "          - apt install cmake (for Ubuntu or Debian based systems)\n",
      "          - yum install cmake (for Redhat or CenOS based systems)\n",
      "  \n",
      "      On a linux machine you can run `which cmake` to see what cmake you are\n",
      "      actually using.  If it tells you it's some cmake from any kind of python\n",
      "      packager delete it and install an official cmake.\n",
      "  \n",
      "      More generally, cmake is not installed if when you open a terminal window\n",
      "      and type\n",
      "         cmake --version\n",
      "      you get an error.  So you can use that as a very basic test to see if you\n",
      "      have cmake installed.  That is, if cmake --version doesn't run from the\n",
      "      same terminal window from which you are reading this error message, then\n",
      "      you have not installed cmake.  Windows users should take note that they\n",
      "      need to tell the cmake installer to add cmake to their PATH.  Since you\n",
      "      can't run commands that are not in your PATH.  This is how the PATH works\n",
      "      on Linux as well, but failing to add cmake to the PATH is a particularly\n",
      "      common problem on windows and rarely a problem on Linux.\n",
      "  \n",
      "  ================================================================================\n",
      "  ================================================================================\n",
      "  ================================================================================\n",
      "  [end of output]\n",
      "  \n",
      "  note: This error originates from a subprocess, and is likely not a problem with pip.\n",
      "error: legacy-install-failure\n",
      "\n",
      "Encountered error while trying to install package.\n",
      "\n",
      "dlib\n",
      "\n",
      "note: This is an issue with the package mentioned above, not pip.\n",
      "hint: See above for output from the failure.\n"
     ]
    }
   ],
   "source": [
    "pip install dlib  "
   ]
  },
  {
   "cell_type": "code",
   "execution_count": null,
   "id": "703991a7",
   "metadata": {},
   "outputs": [],
   "source": [
    "pip install tensorflow"
   ]
  },
  {
   "cell_type": "markdown",
   "id": "5200d642",
   "metadata": {},
   "source": [
    "# Importation des librairies"
   ]
  },
  {
   "cell_type": "code",
   "execution_count": null,
   "id": "8bb5c799",
   "metadata": {},
   "outputs": [],
   "source": [
    "import cv2\n",
    "import numpy as np\n",
    "import face_recognition\n",
    "import os"
   ]
  },
  {
   "cell_type": "code",
   "execution_count": null,
   "id": "39732547",
   "metadata": {},
   "outputs": [],
   "source": []
  },
  {
   "cell_type": "code",
   "execution_count": null,
   "id": "091d8188",
   "metadata": {},
   "outputs": [],
   "source": [
    "path = \"C:/Users/rjabj/Desktop/projects/au cour/Face recognition workshop/Projet FACE-RECOGNITION-APP/data\"\n",
    "images = []\n",
    "classNames = []\n",
    "personsList = os.listdir(path)\n",
    "for cl in personsList:\n",
    "    curPersonn = cv2.imread(f'{path}/{cl}')\n",
    "    images.append(curPersonn)\n",
    "    classNames.append(os.path.splitext(cl)[0])\n",
    "print(classNames)"
   ]
  },
  {
   "cell_type": "markdown",
   "id": "6b62811c",
   "metadata": {},
   "source": [
    "# Création d'encodages des visages "
   ]
  },
  {
   "cell_type": "code",
   "execution_count": null,
   "id": "085e31e7",
   "metadata": {},
   "outputs": [],
   "source": [
    "def findEncodeings(image):\n",
    "    encodeList = []\n",
    "    for img in images:   \n",
    "        img = cv2.cvtColor(img, cv2.COLOR_BGR2RGB)\n",
    "        encode = face_recognition.face_encodings(img)[0]  \n",
    "        encodeList.append(encode)\n",
    "    return encodeList\n"
   ]
  },
  {
   "cell_type": "code",
   "execution_count": null,
   "id": "a0e479d3",
   "metadata": {},
   "outputs": [],
   "source": [
    "encodeListKnown = findEncodeings(images)\n",
    "print('Encoding Complete.')\n",
    "\n",
    "\n"
   ]
  },
  {
   "cell_type": "markdown",
   "id": "ef529099",
   "metadata": {},
   "source": [
    "# Démarrer la webcam avec cv2"
   ]
  },
  {
   "cell_type": "code",
   "execution_count": null,
   "id": "a97f4391",
   "metadata": {},
   "outputs": [],
   "source": [
    "cap = cv2.VideoCapture(0)\n",
    "while True:\n",
    "    _, img = cap.read()\n",
    "    cv2.imshow('Face Recogntion', img)\n",
    "    cv2.waitKey(1)\n",
    "    \n",
    "    if cv2.waitKey(1) & 0xFF == ord('q'):\n",
    "        break\n",
    "cap.release()\n",
    "cv2.destroyAllWindows()"
   ]
  },
  {
   "cell_type": "markdown",
   "id": "0555eb10",
   "metadata": {},
   "source": [
    "# Démarrer la webcam pour une reconnaissance en temps réel"
   ]
  },
  {
   "cell_type": "code",
   "execution_count": null,
   "id": "21fb389b",
   "metadata": {},
   "outputs": [],
   "source": [
    "cap = cv2.VideoCapture(0)\n",
    "while True:\n",
    "    _, img = cap.read()\n",
    "\n",
    "    imgS = cv2.resize(img, (0,0), None, 0.25, 0.25)\n",
    "    imgS = cv2.cvtColor(imgS, cv2.COLOR_BGR2RGB)\n",
    "\n",
    "    faceCurentFrame = face_recognition.face_locations(imgS)\n",
    "    \n",
    "    encodeCurentFrame = face_recognition.face_encodings(imgS, faceCurentFrame)\n",
    "    \n",
    "    \n",
    "\n",
    "    for encodeface, faceLoc in zip(encodeCurentFrame, faceCurentFrame):\n",
    "        matches = face_recognition.compare_faces(encodeListKnown, encodeface)\n",
    "        faceDis = face_recognition.face_distance(encodeListKnown, encodeface)\n",
    "        #print (faceDis)\n",
    "        matchIndex = np.argmin(faceDis) \n",
    "\n",
    "\n",
    "        if matches[matchIndex]:\n",
    "            name = classNames[matchIndex].upper()\n",
    "            print(name)\n",
    "            y1, x2, y2, x1 = faceLoc \n",
    "            y1, x2, y2, x1 = y1*4, x2*4, y2*4, x1*4  \n",
    "            cv2.rectangle(img, (x1, y1), (x2, y2), (0,0,255), 2) \n",
    "            cv2.rectangle(img, (x1,y2-35), (x2,y2), (0,0,255), cv2.FILLED) \n",
    "            cv2.putText(img, name, (x1+6, y2-6), cv2.FONT_HERSHEY_COMPLEX, 1, (255,255,255), 2)\n",
    "        else:\n",
    "            name = \"Unknown\"\n",
    "        \n",
    "    cv2.imshow('Face Recogntion', img)\n",
    "    cv2.waitKey(1)"
   ]
  },
  {
   "cell_type": "markdown",
   "id": "418d1d15",
   "metadata": {},
   "source": [
    "# optionnel : Chargement d'encodages à partir du cache"
   ]
  },
  {
   "cell_type": "code",
   "execution_count": null,
   "id": "c43b7311",
   "metadata": {},
   "outputs": [],
   "source": [
    "import cv2\n",
    "import numpy as np\n",
    "import face_recognition\n",
    "import os\n",
    "import pickle\n",
    "\n",
    "# Paths \n",
    "data_path = r\"C:\\Users\\rjabj\\Desktop\\projects\\au cour\\Face recognition workshop\\Projet FACE-RECOGNITION-APP\\data\"\n",
    "encodings_file = 'encodings.pickle'\n",
    "\n",
    "# Load known faces & encodings \n",
    "def load_or_create_encodings(path, enc_file):\n",
    "    classNames = []\n",
    "    encodeList = []\n",
    "\n",
    "    if os.path.exists(enc_file):\n",
    "        print(\"Loading encodings from cache...\")\n",
    "        with open(enc_file, 'rb') as f:\n",
    "            encodeList, classNames = pickle.load(f)\n",
    "    else:\n",
    "        print(\"No cache found. Encoding images...\")\n",
    "        images = []\n",
    "        personsList = os.listdir(path)\n",
    "\n",
    "        for cl in personsList:\n",
    "            img_path = os.path.join(path, cl)\n",
    "            curImg = cv2.imread(img_path)\n",
    "            if curImg is not None:\n",
    "                images.append(curImg)\n",
    "                classNames.append(os.path.splitext(cl)[0])\n",
    "\n",
    "        for img in images:\n",
    "            img_rgb = cv2.cvtColor(img, cv2.COLOR_BGR2RGB)\n",
    "            encodings = face_recognition.face_encodings(img_rgb)\n",
    "            if encodings:\n",
    "                encodeList.append(encodings[0])\n",
    "\n",
    "        # Save to cache\n",
    "        with open(enc_file, 'wb') as f:\n",
    "            pickle.dump((encodeList, classNames), f)\n",
    "        print(\"Encodings saved to cache.\")\n",
    "\n",
    "    return encodeList, classNames\n",
    "\n",
    "# Load or compute encodings\n",
    "encodeListKnown, classNames = load_or_create_encodings(data_path, encodings_file)\n",
    "print(\"Encoding complete. Starting recognition...\")\n",
    "\n",
    "# Start webcam \n",
    "cap = cv2.VideoCapture(1)\n",
    "frame_count = 0\n",
    "process_every_n_frames = 5\n",
    "recognized_faces = []\n",
    "\n",
    "while True:\n",
    "    success, frame = cap.read()\n",
    "    if not success:\n",
    "        break\n",
    "\n",
    "    small_frame = cv2.resize(frame, (0, 0), fx=0.25, fy=0.25)\n",
    "    rgb_small_frame = cv2.cvtColor(small_frame, cv2.COLOR_BGR2RGB)\n",
    "\n",
    "    if frame_count % process_every_n_frames == 0:\n",
    "        face_locations = face_recognition.face_locations(rgb_small_frame)\n",
    "        face_encodings = face_recognition.face_encodings(rgb_small_frame, face_locations)\n",
    "\n",
    "        recognized_faces = []\n",
    "\n",
    "        for encodeFace, faceLoc in zip(face_encodings, face_locations):\n",
    "            matches = face_recognition.compare_faces(encodeListKnown, encodeFace)\n",
    "            faceDis = face_recognition.face_distance(encodeListKnown, encodeFace)\n",
    "\n",
    "            if faceDis.size > 0:\n",
    "                matchIndex = np.argmin(faceDis)\n",
    "                if matches[matchIndex]:\n",
    "                    name = classNames[matchIndex].upper()\n",
    "                else:\n",
    "                    name = \"Unknown\"\n",
    "                recognized_faces.append((name, faceLoc))\n",
    "\n",
    "    for name, faceLoc in recognized_faces:\n",
    "        y1, x2, y2, x1 = [val * 4 for val in faceLoc]\n",
    "        cv2.rectangle(frame, (x1, y1), (x2, y2), (0, 255, 0), 2)\n",
    "        cv2.rectangle(frame, (x1, y2 - 35), (x2, y2), (0, 255, 0), cv2.FILLED)\n",
    "        cv2.putText(frame, name, (x1 + 6, y2 - 6),\n",
    "                    cv2.FONT_HERSHEY_DUPLEX, 1, (255, 255, 255), 2)\n",
    "\n",
    "    cv2.imshow('Face Recognition (with Cache)', frame)\n",
    "    frame_count += 1\n",
    "\n",
    "    if cv2.waitKey(1) & 0xFF == ord('q'):\n",
    "        break\n",
    "\n",
    "cap.release()\n",
    "cv2.destroyAllWindows()\n"
   ]
  }
 ],
 "metadata": {
  "kernelspec": {
   "display_name": "Python 3 (ipykernel)",
   "language": "python",
   "name": "python3"
  },
  "language_info": {
   "codemirror_mode": {
    "name": "ipython",
    "version": 3
   },
   "file_extension": ".py",
   "mimetype": "text/x-python",
   "name": "python",
   "nbconvert_exporter": "python",
   "pygments_lexer": "ipython3",
   "version": "3.9.13"
  }
 },
 "nbformat": 4,
 "nbformat_minor": 5
}
